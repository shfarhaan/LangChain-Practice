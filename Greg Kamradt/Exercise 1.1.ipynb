{
 "cells": [
  {
   "cell_type": "code",
   "execution_count": null,
   "id": "aa895a2f",
   "metadata": {
    "height": 133
   },
   "outputs": [],
   "source": [
    "import openai\n",
    "import os\n",
    "\n",
    "from dotenv import load_dotenv, find_dotenv\n",
    "_ = load_dotenv(find_dotenv()) # read local .env file\n",
    "\n",
    "openai.api_key  = os.getenv('OPENAI_API_KEY')"
   ]
  },
  {
   "cell_type": "code",
   "execution_count": null,
   "id": "2d9fe507",
   "metadata": {
    "height": 150
   },
   "outputs": [],
   "source": [
    "def get_completion(prompt, model=\"gpt-3.5-turbo\"):\n",
    "    messages = [{\"role\": \"user\", \"content\": prompt}]\n",
    "    response = openai.ChatCompletion.create(\n",
    "        model=model,\n",
    "        messages=messages,\n",
    "        temperature=0, # this is the degree of randomness of the model's output\n",
    "    )\n",
    "    return response.choices[0].message[\"content\"]"
   ]
  },
  {
   "cell_type": "code",
   "execution_count": null,
   "id": "a24059be",
   "metadata": {
    "height": 31
   },
   "outputs": [],
   "source": [
    "# pip install langchain"
   ]
  },
  {
   "cell_type": "markdown",
   "id": "11afe5f4",
   "metadata": {
    "height": 31
   },
   "source": [
    "# **Building A Language Model Application**\n",
    "\n",
    "### **LLMs: Get predictions from a language model**"
   ]
  },
  {
   "cell_type": "code",
   "execution_count": null,
   "id": "30507273",
   "metadata": {
    "height": 31
   },
   "outputs": [],
   "source": [
    "# pip install langchain"
   ]
  },
  {
   "cell_type": "code",
   "execution_count": null,
   "id": "f54f19d1",
   "metadata": {
    "height": 31
   },
   "outputs": [],
   "source": [
    "from langchain.llms import OpenAI"
   ]
  },
  {
   "cell_type": "code",
   "execution_count": null,
   "id": "f2c129dd",
   "metadata": {
    "height": 31
   },
   "outputs": [],
   "source": [
    "llm = OpenAI(temperature = 0.9)"
   ]
  },
  {
   "cell_type": "code",
   "execution_count": null,
   "id": "5dc88b78",
   "metadata": {
    "height": 65
   },
   "outputs": [],
   "source": [
    "text = \"What are 5 vacations for someone who likes to eat pasta?\"\n",
    "\n",
    "print(llm(text))"
   ]
  },
  {
   "cell_type": "markdown",
   "id": "493b91cb",
   "metadata": {
    "height": 31
   },
   "source": [
    "### Prompt Templates: Manage Prompts for LLMs"
   ]
  },
  {
   "cell_type": "code",
   "execution_count": null,
   "id": "95f43625",
   "metadata": {
    "height": 31
   },
   "outputs": [],
   "source": [
    "from langchain.prompts import PromptTemplate"
   ]
  },
  {
   "cell_type": "code",
   "execution_count": null,
   "id": "9cffb940",
   "metadata": {
    "height": 82
   },
   "outputs": [],
   "source": [
    "prompt  = PromptTemplate(\n",
    "    input_variables = [\"food\"],\n",
    "    template = \"What are 5 vacations for someone who likes to eat {food}?\"\n",
    ")"
   ]
  },
  {
   "cell_type": "code",
   "execution_count": null,
   "id": "31f500f9",
   "metadata": {
    "height": 31
   },
   "outputs": [],
   "source": [
    "print(prompt.format(food = \"Biriyani\"))"
   ]
  },
  {
   "cell_type": "code",
   "execution_count": null,
   "id": "256d3cc1",
   "metadata": {
    "height": 31
   },
   "outputs": [],
   "source": [
    "print(llm(prompt.format(food = \"Biriyani\")))"
   ]
  },
  {
   "cell_type": "markdown",
   "id": "e513a81a",
   "metadata": {
    "height": 31
   },
   "source": [
    "### **Chains: Combine LLMs and Prompts in multi-step workflows**"
   ]
  },
  {
   "cell_type": "code",
   "execution_count": null,
   "id": "6b7ad506",
   "metadata": {
    "height": 65
   },
   "outputs": [],
   "source": [
    "from langchain.prompts import PromptTemplate\n",
    "from langchain.llms import OpenAI\n",
    "from langchain.chains import LLMChain"
   ]
  },
  {
   "cell_type": "code",
   "execution_count": null,
   "id": "a7904c21",
   "metadata": {
    "height": 116
   },
   "outputs": [],
   "source": [
    "llm = OpenAI(temperature = 0.9)\n",
    "\n",
    "prompt = PromptTemplate(\n",
    "    input_variables=[\"food\"],\n",
    "    template = \"What are 5 vacations for someone who likes to eat {food}?\"\n",
    ")"
   ]
  },
  {
   "cell_type": "code",
   "execution_count": null,
   "id": "08deb8db",
   "metadata": {
    "height": 31
   },
   "outputs": [],
   "source": [
    "chain = LLMChain(llm = llm, prompt=prompt)"
   ]
  },
  {
   "cell_type": "code",
   "execution_count": null,
   "id": "cf3bc821",
   "metadata": {
    "height": 31
   },
   "outputs": [],
   "source": [
    "print(chain.run(\"fruit\"))"
   ]
  },
  {
   "cell_type": "markdown",
   "id": "c7d008c2",
   "metadata": {
    "height": 31
   },
   "source": [
    "### **Agents: Dynamically calls chains based on user input**"
   ]
  },
  {
   "cell_type": "code",
   "execution_count": null,
   "id": "e2e1c048",
   "metadata": {
    "height": 31
   },
   "outputs": [],
   "source": [
    "pip install google-search-results"
   ]
  },
  {
   "cell_type": "code",
   "execution_count": null,
   "id": "3b4f8187",
   "metadata": {
    "height": 31
   },
   "outputs": [],
   "source": []
  },
  {
   "cell_type": "code",
   "execution_count": null,
   "id": "c1baac12",
   "metadata": {
    "height": 31
   },
   "outputs": [],
   "source": []
  },
  {
   "cell_type": "code",
   "execution_count": null,
   "id": "73efd065",
   "metadata": {
    "height": 31
   },
   "outputs": [],
   "source": []
  },
  {
   "cell_type": "code",
   "execution_count": null,
   "id": "aef81e72",
   "metadata": {
    "height": 31
   },
   "outputs": [],
   "source": []
  },
  {
   "cell_type": "code",
   "execution_count": null,
   "id": "2fdf4192",
   "metadata": {
    "height": 31
   },
   "outputs": [],
   "source": []
  },
  {
   "cell_type": "code",
   "execution_count": null,
   "id": "deefd1ee",
   "metadata": {
    "height": 31
   },
   "outputs": [],
   "source": []
  },
  {
   "cell_type": "code",
   "execution_count": null,
   "id": "f178685b",
   "metadata": {
    "height": 31
   },
   "outputs": [],
   "source": []
  },
  {
   "cell_type": "code",
   "execution_count": null,
   "id": "9ef4c2ec",
   "metadata": {
    "height": 31
   },
   "outputs": [],
   "source": []
  }
 ],
 "metadata": {
  "kernelspec": {
   "display_name": "Python 3 (ipykernel)",
   "language": "python",
   "name": "python3"
  },
  "language_info": {
   "codemirror_mode": {
    "name": "ipython",
    "version": 3
   },
   "file_extension": ".py",
   "mimetype": "text/x-python",
   "name": "python",
   "nbconvert_exporter": "python",
   "pygments_lexer": "ipython3",
   "version": "3.9.16"
  }
 },
 "nbformat": 4,
 "nbformat_minor": 5
}
