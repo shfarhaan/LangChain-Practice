{
 "cells": [
  {
   "cell_type": "code",
   "execution_count": null,
   "id": "a297ce41",
   "metadata": {
    "height": 133
   },
   "outputs": [],
   "source": [
    "import openai\n",
    "import os\n",
    "\n",
    "from dotenv import load_dotenv, find_dotenv\n",
    "_ = load_dotenv(find_dotenv()) # read local .env file\n",
    "\n",
    "openai.api_key  = os.getenv('OPENAI_API_KEY')"
   ]
  },
  {
   "cell_type": "code",
   "execution_count": null,
   "id": "c8e61d4d",
   "metadata": {
    "height": 150
   },
   "outputs": [],
   "source": [
    "def get_completion(prompt, model=\"gpt-3.5-turbo\"):\n",
    "    messages = [{\"role\": \"user\", \"content\": prompt}]\n",
    "    response = openai.ChatCompletion.create(\n",
    "        model=model,\n",
    "        messages=messages,\n",
    "        temperature=0, # this is the degree of randomness of the model's output\n",
    "    )\n",
    "    return response.choices[0].message[\"content\"]"
   ]
  },
  {
   "cell_type": "code",
   "execution_count": null,
   "id": "bb2e3868",
   "metadata": {
    "height": 31
   },
   "outputs": [],
   "source": [
    "# pip install langchain"
   ]
  },
  {
   "cell_type": "markdown",
   "id": "0bf17b28",
   "metadata": {
    "height": 31
   },
   "source": [
    "# **Building A Language Model Application**\n",
    "\n",
    "### **LLMs: Get predictions from a language model**"
   ]
  },
  {
   "cell_type": "code",
   "execution_count": null,
   "id": "b3a6dce5",
   "metadata": {
    "height": 31
   },
   "outputs": [],
   "source": [
    "# pip install langchain"
   ]
  },
  {
   "cell_type": "code",
   "execution_count": null,
   "id": "fe7d7a12",
   "metadata": {
    "height": 31
   },
   "outputs": [],
   "source": [
    "from langchain.llms import OpenAI"
   ]
  },
  {
   "cell_type": "code",
   "execution_count": null,
   "id": "5f7f9880",
   "metadata": {
    "height": 31
   },
   "outputs": [],
   "source": [
    "llm = OpenAI(temperature = 0.9)"
   ]
  },
  {
   "cell_type": "code",
   "execution_count": null,
   "id": "5a9d8908",
   "metadata": {
    "height": 65
   },
   "outputs": [],
   "source": [
    "text = \"What are 5 vacations for someone who likes to eat pasta?\"\n",
    "\n",
    "print(llm(text))"
   ]
  },
  {
   "cell_type": "markdown",
   "id": "5f16011e",
   "metadata": {
    "height": 31
   },
   "source": [
    "### Prompt Templates: Manage Prompts for LLMs"
   ]
  },
  {
   "cell_type": "code",
   "execution_count": null,
   "id": "d96e1486",
   "metadata": {
    "height": 31
   },
   "outputs": [],
   "source": [
    "from langchain.prompts import PromptTemplate"
   ]
  },
  {
   "cell_type": "code",
   "execution_count": null,
   "id": "8e37f68e",
   "metadata": {
    "height": 82
   },
   "outputs": [],
   "source": [
    "prompt  = PromptTemplate(\n",
    "    input_variables = [\"food\"],\n",
    "    template = \"What are 5 vacations for someone who likes to eat {food}?\"\n",
    ")"
   ]
  },
  {
   "cell_type": "code",
   "execution_count": null,
   "id": "eb9aa821",
   "metadata": {
    "height": 31
   },
   "outputs": [],
   "source": [
    "print(prompt.format(food = \"Biriyani\"))"
   ]
  },
  {
   "cell_type": "code",
   "execution_count": null,
   "id": "d60bf204",
   "metadata": {
    "height": 31
   },
   "outputs": [],
   "source": [
    "print(llm(prompt.format(food = \"Biriyani\")))"
   ]
  },
  {
   "cell_type": "markdown",
   "id": "8e9a3539",
   "metadata": {
    "height": 31
   },
   "source": [
    "### **Chains: Combine LLMs and Prompts in multi-step workflows**"
   ]
  },
  {
   "cell_type": "code",
   "execution_count": null,
   "id": "012e9745",
   "metadata": {
    "height": 65
   },
   "outputs": [],
   "source": [
    "from langchain.prompts import PromptTemplate\n",
    "from langchain.llms import OpenAI\n",
    "from langchain.chains import LLMChain"
   ]
  },
  {
   "cell_type": "code",
   "execution_count": null,
   "id": "2f797c5f",
   "metadata": {
    "height": 116
   },
   "outputs": [],
   "source": [
    "llm = OpenAI(temperature = 0.9)\n",
    "\n",
    "prompt = PromptTemplate(\n",
    "    input_variables=[\"food\"],\n",
    "    template = \"What are 5 vacations for someone who likes to eat {food}?\"\n",
    ")"
   ]
  },
  {
   "cell_type": "code",
   "execution_count": null,
   "id": "e78de8dd",
   "metadata": {
    "height": 31
   },
   "outputs": [],
   "source": [
    "chain = LLMChain(llm = llm, prompt=prompt)"
   ]
  },
  {
   "cell_type": "code",
   "execution_count": null,
   "id": "e521a415",
   "metadata": {
    "height": 31
   },
   "outputs": [],
   "source": [
    "print(chain.run(\"fruit\"))"
   ]
  },
  {
   "cell_type": "markdown",
   "id": "93e7f0d6",
   "metadata": {
    "height": 31
   },
   "source": [
    "### **Agents: Dynamically calls chains based on user input**"
   ]
  },
  {
   "cell_type": "code",
   "execution_count": 19,
   "id": "35605357",
   "metadata": {
    "height": 65
   },
   "outputs": [
    {
     "name": "stdout",
     "output_type": "stream",
     "text": [
      "Defaulting to user installation because normal site-packages is not writeable\n",
      "Collecting numexpr\n",
      "  Downloading numexpr-2.8.7-cp39-cp39-manylinux_2_17_x86_64.manylinux2014_x86_64.whl (383 kB)\n",
      "\u001b[2K     \u001b[90m━━━━━━━━━━━━━━━━━━━━━━━━━━━━━━━━━━━━━━\u001b[0m \u001b[32m383.7/383.7 kB\u001b[0m \u001b[31m45.5 MB/s\u001b[0m eta \u001b[36m0:00:00\u001b[0m\n",
      "\u001b[?25hRequirement already satisfied: numpy>=1.13.3 in /usr/local/lib/python3.9/site-packages (from numexpr) (1.24.3)\n",
      "Installing collected packages: numexpr\n",
      "Successfully installed numexpr-2.8.7\n",
      "\n",
      "\u001b[1m[\u001b[0m\u001b[34;49mnotice\u001b[0m\u001b[1;39;49m]\u001b[0m\u001b[39;49m A new release of pip is available: \u001b[0m\u001b[31;49m23.1.1\u001b[0m\u001b[39;49m -> \u001b[0m\u001b[32;49m23.3\u001b[0m\n",
      "\u001b[1m[\u001b[0m\u001b[34;49mnotice\u001b[0m\u001b[1;39;49m]\u001b[0m\u001b[39;49m To update, run: \u001b[0m\u001b[32;49mpip3 install --upgrade pip\u001b[0m\n"
     ]
    }
   ],
   "source": [
    "# pip install google-search-results\n",
    "\n",
    "!pip3 install numexpr"
   ]
  },
  {
   "cell_type": "code",
   "execution_count": 13,
   "id": "0726d206",
   "metadata": {
    "height": 65
   },
   "outputs": [],
   "source": [
    "from langchain.agents import load_tools\n",
    "from langchain.agents import initialize_agent\n",
    "from langchain.llms import OpenAI"
   ]
  },
  {
   "cell_type": "code",
   "execution_count": 14,
   "id": "57f6d72a",
   "metadata": {
    "height": 48
   },
   "outputs": [],
   "source": [
    "# Load the Model\n",
    "llm = OpenAI(temperature = 0)"
   ]
  },
  {
   "cell_type": "code",
   "execution_count": 20,
   "id": "3f6944f0",
   "metadata": {
    "height": 112
   },
   "outputs": [],
   "source": [
    "# Load in some tool to use\n",
    "\n",
    "os.environ[\"SERPAPI_API_KEY\"] = \"a5a22997beec6b42689ec395851beb34272d1b63b0815f08055ef2118859b03d\"\n",
    "\n",
    "tools = load_tools([\"serpapi\", \"llm-math\"], llm=llm)"
   ]
  },
  {
   "cell_type": "code",
   "execution_count": 21,
   "id": "2d0028d3",
   "metadata": {
    "height": 65
   },
   "outputs": [],
   "source": [
    "# Finally, \n",
    "\n",
    "agent  = initialize_agent(tools, llm, agent=\"zero-shot-react-description\", verbose = True)"
   ]
  },
  {
   "cell_type": "code",
   "execution_count": 26,
   "id": "9ca2958d",
   "metadata": {
    "height": 44
   },
   "outputs": [
    {
     "name": "stdout",
     "output_type": "stream",
     "text": [
      "\n",
      "\n",
      "\u001b[1m> Entering new AgentExecutor chain...\u001b[0m\n",
      "\u001b[32;1m\u001b[1;3m I need to find out who Sheldon Cooper is and what their affiliation is.\n",
      "Action: Search\n",
      "Action Input: \"Sheldon Cooper\"\u001b[0m\n",
      "Observation: \u001b[36;1m\u001b[1;3m['Sheldon Lee Cooper, Ph.D., Sc.D., is a fictional character in the CBS television series The Big Bang Theory and its spinoff series Young Sheldon, portrayed by actors Jim Parsons and Iain Armitage respectively.', 'Sheldon Cooper type: Fictional character.', 'Sheldon Cooper main_tab_text: Overview.', 'Sheldon Cooper kgmid: /m/05p74fx.', 'Sheldon Cooper significant_other: Amy Farrah Fowler.', 'Sheldon Cooper notable_aliases: Dr. Sheldon Cooper, Dr. Sheldon Lee Cooper.', 'Sheldon Cooper parents: George Cooper, Sr., Mary Cooper.', 'Sheldon Cooper birth_date: February 26, 1980.', 'Sheldon Cooper children: Leonard; at least one other (according to Young Sheldon narrations).', 'Sheldon Lee Cooper, Ph.D., Sc.D., is a fictional character in the CBS television series The Big Bang Theory and its spinoff series Young Sheldon, ...']\u001b[0m\n",
      "Thought:\u001b[32;1m\u001b[1;3m I need to find out what affiliation Sheldon Cooper has.\n",
      "Action: Search\n",
      "Action Input: \"Sheldon Cooper affiliation\"\u001b[0m\n",
      "Observation: \u001b[36;1m\u001b[1;3mThe adult Sheldon is a senior theoretical physicist at The California Institute of Technology (Caltech), and for the first ten seasons of The Big Bang Theory shares an apartment with his colleague and best friend, Leonard Hofstadter (Johnny Galecki); they are also friends and coworkers with Howard Wolowitz (Simon ...\u001b[0m\n",
      "Thought:\u001b[32;1m\u001b[1;3m I now need to find out if Sheldon Cooper ever had any Cameo.\n",
      "Action: Search\n",
      "Action Input: \"Sheldon Cooper Cameo\"\u001b[0m\n",
      "Observation: \u001b[36;1m\u001b[1;3m[\"The Big Bang Theory featured a string of Star Trek guest stars in conjunction with Sheldon's fondness of the franchise.\"]\u001b[0m\n",
      "Thought:\u001b[32;1m\u001b[1;3m I now know the final answer.\n",
      "Final Answer: Sheldon Cooper is a fictional character in the CBS television series The Big Bang Theory and its spinoff series Young Sheldon, portrayed by actors Jim Parsons and Iain Armitage respectively. He is a senior theoretical physicist at The California Institute of Technology (Caltech). He has had a few Star Trek guest stars in conjunction with his fondness of the franchise.\u001b[0m\n",
      "\n",
      "\u001b[1m> Finished chain.\u001b[0m\n"
     ]
    },
    {
     "data": {
      "text/plain": [
       "'Sheldon Cooper is a fictional character in the CBS television series The Big Bang Theory and its spinoff series Young Sheldon, portrayed by actors Jim Parsons and Iain Armitage respectively. He is a senior theoretical physicist at The California Institute of Technology (Caltech). He has had a few Star Trek guest stars in conjunction with his fondness of the franchise.'"
      ]
     },
     "execution_count": 26,
     "metadata": {},
     "output_type": "execute_result"
    }
   ],
   "source": [
    "agent.run(\"Who is the Sheldon Cooper? What is the name of their affiliation? Did he ever have any Cameo?\")"
   ]
  },
  {
   "cell_type": "code",
   "execution_count": null,
   "id": "64acbbd6",
   "metadata": {
    "height": 31
   },
   "outputs": [],
   "source": []
  },
  {
   "cell_type": "code",
   "execution_count": null,
   "id": "95fdcbb8",
   "metadata": {
    "height": 31
   },
   "outputs": [],
   "source": []
  },
  {
   "cell_type": "code",
   "execution_count": null,
   "id": "79bffce9",
   "metadata": {
    "height": 31
   },
   "outputs": [],
   "source": []
  }
 ],
 "metadata": {
  "kernelspec": {
   "display_name": "Python 3 (ipykernel)",
   "language": "python",
   "name": "python3"
  },
  "language_info": {
   "codemirror_mode": {
    "name": "ipython",
    "version": 3
   },
   "file_extension": ".py",
   "mimetype": "text/x-python",
   "name": "python",
   "nbconvert_exporter": "python",
   "pygments_lexer": "ipython3",
   "version": "3.9.16"
  }
 },
 "nbformat": 4,
 "nbformat_minor": 5
}
